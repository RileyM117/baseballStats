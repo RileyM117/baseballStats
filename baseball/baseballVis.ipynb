{
 "cells": [
  {
   "cell_type": "code",
   "execution_count": 4,
   "metadata": {},
   "outputs": [
    {
     "name": "stdout",
     "output_type": "stream",
     "text": [
      "Requirement already satisfied: pandas in c:\\python312\\lib\\site-packages (2.2.1)\n",
      "Requirement already satisfied: numpy<2,>=1.26.0 in c:\\python312\\lib\\site-packages (from pandas) (1.26.4)\n",
      "Requirement already satisfied: python-dateutil>=2.8.2 in c:\\python312\\lib\\site-packages (from pandas) (2.9.0.post0)\n",
      "Requirement already satisfied: pytz>=2020.1 in c:\\python312\\lib\\site-packages (from pandas) (2024.1)\n",
      "Requirement already satisfied: tzdata>=2022.7 in c:\\python312\\lib\\site-packages (from pandas) (2024.1)\n",
      "Requirement already satisfied: six>=1.5 in c:\\python312\\lib\\site-packages (from python-dateutil>=2.8.2->pandas) (1.16.0)\n",
      "Note: you may need to restart the kernel to use updated packages.\n"
     ]
    },
    {
     "name": "stderr",
     "output_type": "stream",
     "text": [
      "\n",
      "[notice] A new release of pip is available: 23.2.1 -> 24.0\n",
      "[notice] To update, run: python.exe -m pip install --upgrade pip\n"
     ]
    }
   ],
   "source": [
    "%pip install pandas\n",
    "import pandas as pd\n",
    "\n"
   ]
  },
  {
   "cell_type": "code",
   "execution_count": 13,
   "metadata": {},
   "outputs": [
    {
     "name": "stdout",
     "output_type": "stream",
     "text": [
      "Index(['gameId', 'teamId', 'opponentId', 'homeTeam?', 'playerInfo_id',\n",
      "       'playerInfo_fullName', 'playerStats_batting_runs',\n",
      "       'playerStats_batting_doubles', 'playerStats_batting_triples',\n",
      "       'playerStats_batting_homeRuns', 'playerStats_batting_strikeOuts',\n",
      "       'playerStats_batting_baseOnBalls', 'playerStats_batting_hits',\n",
      "       'playerStats_batting_atBats', 'playerStats_batting_stolenBases',\n",
      "       'playerStats_batting_rbi', 'playerStats_batting_leftOnBase',\n",
      "       'playerStats_pitching_runs', 'playerStats_pitching_doubles',\n",
      "       'playerStats_pitching_triples', 'playerStats_pitching_homeRuns',\n",
      "       'playerStats_pitching_strikeOuts', 'playerStats_pitching_baseOnBalls',\n",
      "       'playerStats_pitching_hits', 'playerStats_pitching_atBats',\n",
      "       'playerStats_pitching_stolenBases',\n",
      "       'playerStats_pitching_numberOfPitches',\n",
      "       'playerStats_pitching_inningsPitched', 'playerStats_pitching_wins',\n",
      "       'playerStats_pitching_losses', 'playerStats_pitching_holds',\n",
      "       'playerStats_pitching_blownSaves', 'playerStats_pitching_earnedRuns',\n",
      "       'playerStats_pitching_pitchesThrown'],\n",
      "      dtype='object')\n"
     ]
    }
   ],
   "source": [
    "stats = pd.read_csv(\"teamCsvFiles/ArizonsDiamondbacks.csv\", encoding='latin1')\n",
    "print(stats.columns)"
   ]
  },
  {
   "cell_type": "code",
   "execution_count": null,
   "metadata": {},
   "outputs": [],
   "source": []
  }
 ],
 "metadata": {
  "kernelspec": {
   "display_name": "Python 3",
   "language": "python",
   "name": "python3"
  },
  "language_info": {
   "codemirror_mode": {
    "name": "ipython",
    "version": 3
   },
   "file_extension": ".py",
   "mimetype": "text/x-python",
   "name": "python",
   "nbconvert_exporter": "python",
   "pygments_lexer": "ipython3",
   "version": "3.12.1"
  }
 },
 "nbformat": 4,
 "nbformat_minor": 2
}
