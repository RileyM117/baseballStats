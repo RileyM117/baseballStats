{
 "cells": [
  {
   "cell_type": "code",
   "execution_count": 701,
   "metadata": {},
   "outputs": [
    {
     "name": "stdout",
     "output_type": "stream",
     "text": [
      "Requirement already satisfied: pandas in c:\\python312\\lib\\site-packages (2.2.1)\n",
      "Requirement already satisfied: numpy<2,>=1.26.0 in c:\\python312\\lib\\site-packages (from pandas) (1.26.4)\n",
      "Requirement already satisfied: python-dateutil>=2.8.2 in c:\\python312\\lib\\site-packages (from pandas) (2.9.0.post0)\n",
      "Requirement already satisfied: pytz>=2020.1 in c:\\python312\\lib\\site-packages (from pandas) (2024.1)\n",
      "Requirement already satisfied: tzdata>=2022.7 in c:\\python312\\lib\\site-packages (from pandas) (2024.1)\n",
      "Requirement already satisfied: six>=1.5 in c:\\python312\\lib\\site-packages (from python-dateutil>=2.8.2->pandas) (1.16.0)\n",
      "Note: you may need to restart the kernel to use updated packages.\n"
     ]
    },
    {
     "name": "stderr",
     "output_type": "stream",
     "text": [
      "\n",
      "[notice] A new release of pip is available: 23.2.1 -> 24.0\n",
      "[notice] To update, run: python.exe -m pip install --upgrade pip\n"
     ]
    }
   ],
   "source": [
    "%pip install pandas\n",
    "import os\n",
    "import pandas as pd\n",
    "import numpy as np\n",
    "import matplotlib.pyplot as plt"
   ]
  },
  {
   "cell_type": "code",
   "execution_count": 702,
   "metadata": {},
   "outputs": [],
   "source": [
    "def getCsvs():\n",
    "    stats = pd.read_csv(\"teamCsvFiles/OaklandAthletics.csv\", encoding='latin1')\n",
    "    stats.fillna(0, inplace=True)"
   ]
  },
  {
   "cell_type": "code",
   "execution_count": 703,
   "metadata": {},
   "outputs": [],
   "source": [
    "folder_path = \"teamCsvFiles/\"\n",
    "csvArray = []\n",
    "for file_name in os.listdir(folder_path):\n",
    "    file_path = os.path.join(folder_path, file_name)\n",
    "    if os.path.isfile(file_path):\n",
    "        csvArray.append({\"teamName\":file_name,\"data\":pd.read_csv(file_path, encoding='latin1')})"
   ]
  },
  {
   "cell_type": "code",
   "execution_count": 704,
   "metadata": {},
   "outputs": [],
   "source": [
    "def formatPlayerStats(playerdf):\n",
    "    game_scores = playerdf.groupby('gameId').agg(\n",
    "    teamScore=('battingRuns', 'sum'),\n",
    "    opponentScore=('pitchingRuns', 'sum')\n",
    ")\n",
    "    # Assign 'Win' or 'Loss' based on the comparison of scores\n",
    "    game_scores['result'] = game_scores.apply(lambda row: 'Win' if row['teamScore'] > row['opponentScore'] else 'Loss', axis=1)\n",
    "    # Merge the result back to the original dataframe based on gameId\n",
    "    playerdf = playerdf.merge(game_scores['result'], left_on='gameId', right_index=True)\n",
    "    playerdf[\"battingAvg\"] = (playerdf[\"battingHits\"]) / (stats[\"battingAtBats\"])\n",
    "    playerdf[\"onBasePercentage\"] = (playerdf[\"battingHits\"] + playerdf[\"battingBaseOnBalls\"]) / (playerdf[\"battingAtBats\"] + playerdf[\"battingBaseOnBalls\"])\n",
    "    playerdf.fillna(0, inplace=True) \n",
    "    return playerdf"
   ]
  },
  {
   "cell_type": "code",
   "execution_count": 705,
   "metadata": {},
   "outputs": [],
   "source": [
    "def formatTeamStats(playerdf):\n",
    "    aggdf = playerdf.groupby(['playerFullName']).sum().reset_index()\n",
    "    # Drop columns\n",
    "    aggdf = aggdf.drop(['gameId','opponentId','homeTeam?','playerInfoId'], axis=1)\n",
    "    teamId = playerdf.iloc[0][\"teamId\"]  \n",
    "    aggdf[\"teamId\"] = teamId\n",
    "    aggdf[\"battingAvg\"] = (aggdf[\"battingHits\"]) / (aggdf[\"battingAtBats\"])\n",
    "    aggdf[\"onBasePercentage\"] = (aggdf[\"battingHits\"] + aggdf[\"battingBaseOnBalls\"]) / (aggdf[\"battingAtBats\"] + aggdf[\"battingBaseOnBalls\"])\n",
    "    aggdf.fillna(0, inplace=True)\n",
    "    return aggdf"
   ]
  },
  {
   "cell_type": "code",
   "execution_count": 706,
   "metadata": {},
   "outputs": [],
   "source": [
    "teamStatsArray = []\n",
    "for i in range(len(csvArray)):\n",
    "    teamStatsArray.append({\"teamName\":csvArray[i][\"teamName\"],\"data\":formatTeamStats(csvArray[i][\"data\"])})"
   ]
  },
  {
   "cell_type": "code",
   "execution_count": 707,
   "metadata": {},
   "outputs": [],
   "source": [
    "for i in range(len(csvArray)):\n",
    "    csvArray[i][\"data\"] = formatPlayerStats(csvArray[i][\"data\"])"
   ]
  },
  {
   "cell_type": "code",
   "execution_count": 708,
   "metadata": {},
   "outputs": [],
   "source": [
    "def addSabermetrics(df):\n",
    "    df[\"battingSingles\"] = (df[\"battingHits\"] - df[\"battingDoubles\"] - df[\"battingTriples\"] - df[\"battingHomeRuns\"])\n",
    "    df[\"totalBases\"] = (df[\"battingSingles\"] + 2*df[\"battingDoubles\"] + 3*df[\"battingTriples\"] + 4*df[\"battingHomeRuns\"])\n",
    "    df[\"battingSlg\"] = (df[\"totalBases\"]/df[\"battingAtBats\"])\n",
    "    df[\"OBP+Slg\"] = (df[\"onBasePercentage\"] + df[\"battingSlg\"])\n",
    "    df[\"pitchingSingles\"] = (df[\"pitchingHits\"] - df[\"pitchingDoubles\"] - df[\"pitchingTriples\"] - df[\"pitchingHomeRuns\"])\n",
    "    df[\"pitchingRunsAllowedPerInning\"] = (df[\"pitchingEarnedRuns\"]/df[\"pitchingInningsPitched\"])\n",
    "    df[\"pitchingWinPercentage\"] = (df[\"pitchingWins\"] / (df[\"pitchingWins\"] + df[\"pitchingLosses\"]))\n",
    "    df[\"pitchingWalks+Hits\"] = (df[\"pitchingHits\"] + df[\"pitchingBaseOnBalls\"])\n",
    "    df[\"pitchingWalks+HitsPercentage\"] = ((df[\"pitchingHits\"] + df[\"pitchingBaseOnBalls\"]) / df[\"pitchingAtBats\"])\n",
    "    df[\"pitchingWalks+HitsPerInning\"] = ((df[\"pitchingHits\"] + df[\"pitchingBaseOnBalls\"]) / df[\"pitchingInningsPitched\"])\n",
    "    df.fillna(0, inplace=True)\n",
    "    "
   ]
  },
  {
   "cell_type": "code",
   "execution_count": 709,
   "metadata": {},
   "outputs": [],
   "source": [
    "for i in range(len(csvArray)):\n",
    "    addSabermetrics(csvArray[i][\"data\"])\n",
    "    addSabermetrics(teamStatsArray[i][\"data\"])"
   ]
  },
  {
   "cell_type": "code",
   "execution_count": 726,
   "metadata": {},
   "outputs": [],
   "source": [
    "for i in range(len(csvArray)):\n",
    "    csvArray[i][\"data\"][\"homeTeam?\"] = csvArray[i][\"data\"][\"homeTeam?\"].map({\n",
    "    True: 1,\n",
    "    False: 0\n",
    "})\n",
    "    \n",
    "    csvArray[i][\"data\"][\"result\"] = csvArray[i][\"data\"][\"result\"].map({\n",
    "    \"Win\": 1,\n",
    "    \"Loss\": 0\n",
    "})"
   ]
  },
  {
   "cell_type": "code",
   "execution_count": 729,
   "metadata": {},
   "outputs": [
    {
     "data": {
      "text/plain": [
       "Index(['gameId', 'teamId', 'opponentId', 'homeTeam?', 'playerInfoId',\n",
       "       'playerFullName', 'battingRuns', 'battingDoubles', 'battingTriples',\n",
       "       'battingHomeRuns', 'battingStrikeOuts', 'battingBaseOnBalls',\n",
       "       'battingHits', 'battingAtBats', 'battingStolenBases', 'battingRbi',\n",
       "       'battingLeftOnBase', 'pitchingRuns', 'pitchingDoubles',\n",
       "       'pitchingTriples', 'pitchingHomeRuns', 'pitchingStrikeOuts',\n",
       "       'pitchingBaseOnBalls', 'pitchingHits', 'pitchingAtBats',\n",
       "       'pitchingStolenBases', 'pitchingNumberOfPitches',\n",
       "       'pitchingInningsPitched', 'pitchingWins', 'pitchingLosses',\n",
       "       'pitchingHolds', 'pitchingBlownSaves', 'pitchingEarnedRuns',\n",
       "       'pitchingPitchesThrown', 'result', 'battingAvg', 'onBasePercentage',\n",
       "       'battingSingles', 'totalBases', 'battingSlg', 'OBP+Slg',\n",
       "       'pitchingSingles', 'pitchingRunsAllowedPerInning',\n",
       "       'pitchingWinPercentage', 'pitchingWalks+Hits',\n",
       "       'pitchingWalks+HitsPercentage', 'pitchingWalks+HitsPerInning'],\n",
       "      dtype='object')"
      ]
     },
     "execution_count": 729,
     "metadata": {},
     "output_type": "execute_result"
    }
   ],
   "source": [
    "csvArray[0][\"data\"].columns"
   ]
  },
  {
   "cell_type": "code",
   "execution_count": 747,
   "metadata": {},
   "outputs": [],
   "source": [
    "features = csvArray[0][\"data\"].columns[1:5] \n",
    "features = features.append(csvArray[0][\"data\"].columns[6:])"
   ]
  },
  {
   "cell_type": "code",
   "execution_count": 748,
   "metadata": {},
   "outputs": [
    {
     "data": {
      "text/plain": [
       "Index(['teamId', 'opponentId', 'homeTeam?', 'playerInfoId', 'battingRuns',\n",
       "       'battingDoubles', 'battingTriples', 'battingHomeRuns',\n",
       "       'battingStrikeOuts', 'battingBaseOnBalls', 'battingHits',\n",
       "       'battingAtBats', 'battingStolenBases', 'battingRbi',\n",
       "       'battingLeftOnBase', 'pitchingRuns', 'pitchingDoubles',\n",
       "       'pitchingTriples', 'pitchingHomeRuns', 'pitchingStrikeOuts',\n",
       "       'pitchingBaseOnBalls', 'pitchingHits', 'pitchingAtBats',\n",
       "       'pitchingStolenBases', 'pitchingNumberOfPitches',\n",
       "       'pitchingInningsPitched', 'pitchingWins', 'pitchingLosses',\n",
       "       'pitchingHolds', 'pitchingBlownSaves', 'pitchingEarnedRuns',\n",
       "       'pitchingPitchesThrown', 'result', 'battingAvg', 'onBasePercentage',\n",
       "       'battingSingles', 'totalBases', 'battingSlg', 'OBP+Slg',\n",
       "       'pitchingSingles', 'pitchingRunsAllowedPerInning',\n",
       "       'pitchingWinPercentage', 'pitchingWalks+Hits',\n",
       "       'pitchingWalks+HitsPercentage', 'pitchingWalks+HitsPerInning'],\n",
       "      dtype='object')"
      ]
     },
     "execution_count": 748,
     "metadata": {},
     "output_type": "execute_result"
    }
   ],
   "source": [
    "features"
   ]
  }
 ],
 "metadata": {
  "kernelspec": {
   "display_name": "Python 3",
   "language": "python",
   "name": "python3"
  },
  "language_info": {
   "codemirror_mode": {
    "name": "ipython",
    "version": 3
   },
   "file_extension": ".py",
   "mimetype": "text/x-python",
   "name": "python",
   "nbconvert_exporter": "python",
   "pygments_lexer": "ipython3",
   "version": "3.12.1"
  }
 },
 "nbformat": 4,
 "nbformat_minor": 2
}
