{
 "cells": [
  {
   "cell_type": "code",
   "execution_count": 431,
   "metadata": {},
   "outputs": [
    {
     "name": "stdout",
     "output_type": "stream",
     "text": [
      "Requirement already satisfied: pandas in c:\\python312\\lib\\site-packages (2.2.1)Note: you may need to restart the kernel to use updated packages.\n",
      "\n",
      "Requirement already satisfied: numpy<2,>=1.26.0 in c:\\python312\\lib\\site-packages (from pandas) (1.26.4)\n",
      "Requirement already satisfied: python-dateutil>=2.8.2 in c:\\python312\\lib\\site-packages (from pandas) (2.9.0.post0)\n",
      "Requirement already satisfied: pytz>=2020.1 in c:\\python312\\lib\\site-packages (from pandas) (2024.1)\n",
      "Requirement already satisfied: tzdata>=2022.7 in c:\\python312\\lib\\site-packages (from pandas) (2024.1)\n",
      "Requirement already satisfied: six>=1.5 in c:\\python312\\lib\\site-packages (from python-dateutil>=2.8.2->pandas) (1.16.0)\n"
     ]
    },
    {
     "name": "stderr",
     "output_type": "stream",
     "text": [
      "\n",
      "[notice] A new release of pip is available: 23.2.1 -> 24.0\n",
      "[notice] To update, run: python.exe -m pip install --upgrade pip\n"
     ]
    }
   ],
   "source": [
    "%pip install pandas\n",
    "import pandas as pd"
   ]
  },
  {
   "cell_type": "code",
   "execution_count": 432,
   "metadata": {},
   "outputs": [],
   "source": [
    "stats = pd.read_csv(\"teamCsvFiles/OaklandAthletics.csv\", encoding='latin1')\n",
    "stats.fillna(0, inplace=True)\n",
    "teamStats = None"
   ]
  },
  {
   "cell_type": "code",
   "execution_count": 433,
   "metadata": {},
   "outputs": [
    {
     "data": {
      "text/plain": [
       "Index(['gameId', 'teamId', 'opponentId', 'homeTeam?', 'playerInfoId',\n",
       "       'playerFullName', 'battingRuns', 'battingDoubles', 'battingTriples',\n",
       "       'battingHomeRuns', 'battingStrikeOuts', 'battingBaseOnBalls',\n",
       "       'battingHits', 'battingAtBats', 'battingStolenBases', 'battingRbi',\n",
       "       'battingLeftOnBase', 'pitchingRuns', 'pitchingDoubles',\n",
       "       'pitchingTriples', 'pitchingHomeRuns', 'pitchingStrikeOuts',\n",
       "       'pitchingBaseOnBalls', 'pitchingHits', 'pitchingAtBats',\n",
       "       'pitchingStolenBases', 'pitchingNumberOfPitches',\n",
       "       'pitchingInningsPitched', 'pitchingWins', 'pitchingLosses',\n",
       "       'pitchingHolds', 'pitchingBlownSaves', 'pitchingEarnedRuns',\n",
       "       'pitchingPitchesThrown'],\n",
       "      dtype='object')"
      ]
     },
     "execution_count": 433,
     "metadata": {},
     "output_type": "execute_result"
    }
   ],
   "source": [
    "stats.columns"
   ]
  },
  {
   "cell_type": "code",
   "execution_count": 434,
   "metadata": {},
   "outputs": [],
   "source": [
    "def formatPlayerStats(playerdf):\n",
    "    game_scores = playerdf.groupby('gameId').agg(\n",
    "    teamScore=('battingRuns', 'sum'),\n",
    "    opponentScore=('pitchingRuns', 'sum')\n",
    ")\n",
    "    # Assign 'Win' or 'Loss' based on the comparison of scores\n",
    "    game_scores['result'] = game_scores.apply(lambda row: 'Win' if row['teamScore'] > row['opponentScore'] else 'Loss', axis=1)\n",
    "    # Merge the result back to the original dataframe based on gameId\n",
    "    playerdf = playerdf.merge(game_scores['result'], left_on='gameId', right_index=True)\n",
    "    playerdf[\"battingAvg\"] = (playerdf[\"battingHits\"]) / (stats[\"battingAtBats\"])\n",
    "    playerdf[\"onBasePercentage\"] = (playerdf[\"battingHits\"] + playerdf[\"battingBaseOnBalls\"]) / (playerdf[\"battingAtBats\"] + playerdf[\"battingBaseOnBalls\"])\n",
    "    playerdf.fillna(0, inplace=True) \n",
    "    return playerdf"
   ]
  },
  {
   "cell_type": "code",
   "execution_count": 442,
   "metadata": {},
   "outputs": [],
   "source": [
    "def formatTeamStats(playerdf):\n",
    "    aggdf = playerdf.groupby(['playerFullName']).sum().reset_index()\n",
    "    # Drop the 'teamId' column\n",
    "    aggdf = aggdf.drop(['teamId','gameId','opponentId','homeTeam?','playerInfoId'], axis=1)  \n",
    "    aggdf[\"battingAvg\"] = (aggdf[\"battingHits\"]) / (aggdf[\"battingAtBats\"])\n",
    "    aggdf[\"onBasePercentage\"] = (aggdf[\"battingHits\"] + aggdf[\"battingBaseOnBalls\"]) / (aggdf[\"battingAtBats\"] + aggdf[\"battingBaseOnBalls\"])\n",
    "    aggdf.fillna(0, inplace=True)\n",
    "    return aggdf"
   ]
  },
  {
   "cell_type": "code",
   "execution_count": 451,
   "metadata": {},
   "outputs": [],
   "source": [
    "stats = formatPlayerStats(stats)"
   ]
  },
  {
   "cell_type": "code",
   "execution_count": 453,
   "metadata": {},
   "outputs": [],
   "source": [
    "teamStats = formatTeamStats(stats)\n",
    "teamStats = teamStats.drop([\"result\"],axis=1)"
   ]
  }
 ],
 "metadata": {
  "kernelspec": {
   "display_name": "Python 3",
   "language": "python",
   "name": "python3"
  },
  "language_info": {
   "codemirror_mode": {
    "name": "ipython",
    "version": 3
   },
   "file_extension": ".py",
   "mimetype": "text/x-python",
   "name": "python",
   "nbconvert_exporter": "python",
   "pygments_lexer": "ipython3",
   "version": "3.12.1"
  }
 },
 "nbformat": 4,
 "nbformat_minor": 2
}
